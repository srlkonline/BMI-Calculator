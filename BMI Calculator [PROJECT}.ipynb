{
 "cells": [
  {
   "cell_type": "markdown",
   "id": "faef7d0d-40ba-435c-9388-1d515a1b3543",
   "metadata": {},
   "source": [
    "# BMI Calculator"
   ]
  },
  {
   "cell_type": "code",
   "execution_count": 28,
   "id": "cbba7708-5f71-479e-9953-df3246011e6b",
   "metadata": {},
   "outputs": [
    {
     "name": "stdin",
     "output_type": "stream",
     "text": [
      "enter your name:   alex\n",
      "enter your weight in pounds 170\n",
      "enter your height in inchess 69\n"
     ]
    },
    {
     "name": "stdout",
     "output_type": "stream",
     "text": [
      "25.101869355177485\n",
      "alex, you are over weight, you need to exercise more\n"
     ]
    }
   ],
   "source": [
    "name = input(\"enter your name:  \")\n",
    "\n",
    "weight = int(input(\"enter your weight in pounds\"))\n",
    "\n",
    "height= int(input(\"enter your height in inchess\"))\n",
    "\n",
    "BMI = (weight * 703) / (height * height)\n",
    "\n",
    "print(BMI)\n",
    "\n",
    "if BMI > 0:\n",
    "    if(BMI < 18.5):\n",
    "        print(name +\", you are under weight\")\n",
    "    elif(BMI <= 24.9):\n",
    "        print(name +\", you are normal weight\")\n",
    "    elif(BMI <= 29.9):\n",
    "        print(name +\", you are over weight, you need to exercise more\")\n",
    "    elif(BMI <= 34.9):\n",
    "        print(name +\", you are obese\")\n",
    "    elif(BMI <= 39.9):\n",
    "        print(name +\", you are severely obese\")\n",
    "    else:\n",
    "        print(name +\", you are morbidly obese\")\n",
    "else:\n",
    "    print(\"enter valid input\")"
   ]
  },
  {
   "cell_type": "code",
   "execution_count": 9,
   "id": "7801af87-47f3-4f49-8c94-fce62e1151d9",
   "metadata": {},
   "outputs": [
    {
     "data": {
      "text/plain": [
       "str"
      ]
     },
     "execution_count": 9,
     "metadata": {},
     "output_type": "execute_result"
    }
   ],
   "source": [
    "type(weight)"
   ]
  },
  {
   "cell_type": "code",
   "execution_count": 25,
   "id": "622f05ff-32b3-44b0-87e3-8a69e2a7739f",
   "metadata": {},
   "outputs": [
    {
     "name": "stdout",
     "output_type": "stream",
     "text": [
      "alex ,you are over weight\n"
     ]
    }
   ],
   "source": [
    "if BMI > 0:\n",
    "    if(BMI < 18.5):\n",
    "        print(name +\" ,you are under weight\")\n",
    "    elif(BMI <= 24.9):\n",
    "        print(name +\" ,you are normal weight\")\n",
    "    elif(BMI <= 29.9):\n",
    "        print(name +\" ,you are over weight\")\n",
    "    elif(BMI <= 34.9):\n",
    "        print(name +\" ,you are obese\")\n",
    "    elif(BMI <= 39.9):\n",
    "        print(name +\" ,you are severely obese\")\n",
    "    else:\n",
    "        print(name +\" ,you are morbidly obese\")\n",
    "else:\n",
    "    print(\"enter valid input\")"
   ]
  },
  {
   "cell_type": "code",
   "execution_count": null,
   "id": "39fd449f-8241-4dc5-a05f-078b9b99f902",
   "metadata": {},
   "outputs": [],
   "source": []
  },
  {
   "cell_type": "code",
   "execution_count": null,
   "id": "8027e5b7-ea1f-4c0c-8043-6839137c99a2",
   "metadata": {},
   "outputs": [],
   "source": []
  },
  {
   "cell_type": "code",
   "execution_count": null,
   "id": "eab479f8-cf61-4fee-8a0f-6883cdffd817",
   "metadata": {},
   "outputs": [],
   "source": []
  },
  {
   "cell_type": "code",
   "execution_count": null,
   "id": "34ba5f73-5457-4fc9-b114-7bd32cb450b3",
   "metadata": {},
   "outputs": [],
   "source": []
  },
  {
   "cell_type": "code",
   "execution_count": null,
   "id": "d74d43a4-8dd4-4219-afb8-1cc5c3378323",
   "metadata": {},
   "outputs": [],
   "source": []
  },
  {
   "cell_type": "code",
   "execution_count": null,
   "id": "79505574-9b8f-44c2-bffd-9ecb99c02f12",
   "metadata": {},
   "outputs": [],
   "source": []
  },
  {
   "cell_type": "code",
   "execution_count": null,
   "id": "f765b7a0-73a3-4866-b955-3f727c538a2c",
   "metadata": {},
   "outputs": [],
   "source": []
  },
  {
   "cell_type": "code",
   "execution_count": null,
   "id": "bcb05f64-540d-45ec-bbc6-0632511b5689",
   "metadata": {},
   "outputs": [],
   "source": []
  },
  {
   "cell_type": "code",
   "execution_count": null,
   "id": "2f01c413-0d25-4a5e-bd17-0519ec0abc19",
   "metadata": {},
   "outputs": [],
   "source": []
  },
  {
   "cell_type": "code",
   "execution_count": null,
   "id": "e0a2d715-72a4-40ec-b856-8564f1d8867d",
   "metadata": {},
   "outputs": [],
   "source": []
  },
  {
   "cell_type": "code",
   "execution_count": null,
   "id": "4af6a9c8-190c-464d-b230-a4880190d31e",
   "metadata": {},
   "outputs": [],
   "source": []
  },
  {
   "cell_type": "code",
   "execution_count": null,
   "id": "20ecd704-f699-48fc-9a00-e853cc3c95c8",
   "metadata": {},
   "outputs": [],
   "source": []
  },
  {
   "cell_type": "code",
   "execution_count": null,
   "id": "366d7499-b556-410e-8ba5-524db574db31",
   "metadata": {},
   "outputs": [],
   "source": []
  },
  {
   "cell_type": "code",
   "execution_count": null,
   "id": "ed2ca711-291c-4fe2-8577-32b8e8cd0328",
   "metadata": {},
   "outputs": [],
   "source": []
  }
 ],
 "metadata": {
  "kernelspec": {
   "display_name": "Python 3 (ipykernel)",
   "language": "python",
   "name": "python3"
  },
  "language_info": {
   "codemirror_mode": {
    "name": "ipython",
    "version": 3
   },
   "file_extension": ".py",
   "mimetype": "text/x-python",
   "name": "python",
   "nbconvert_exporter": "python",
   "pygments_lexer": "ipython3",
   "version": "3.12.7"
  }
 },
 "nbformat": 4,
 "nbformat_minor": 5
}
