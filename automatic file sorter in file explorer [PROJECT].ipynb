{
 "cells": [
  {
   "cell_type": "markdown",
   "id": "fe5b5567-b8c3-4694-bc2d-f11266ed296c",
   "metadata": {},
   "source": [
    "# automatic file sorter in file explorer"
   ]
  },
  {
   "cell_type": "code",
   "execution_count": 130,
   "id": "e78beb9c-5747-41ad-af6a-3c3ccbb8f728",
   "metadata": {},
   "outputs": [],
   "source": [
    "import os, shutil"
   ]
  },
  {
   "cell_type": "code",
   "execution_count": 131,
   "id": "89f6329c-7fd3-4ba1-93a1-dad6bc699427",
   "metadata": {},
   "outputs": [],
   "source": [
    "path = r\"C:/Users/raghu chintu/Downloads/automatic file sorter/\""
   ]
  },
  {
   "cell_type": "code",
   "execution_count": 132,
   "id": "7f73c4a9-40b2-47f7-8135-c18e8545f53d",
   "metadata": {},
   "outputs": [],
   "source": [
    "file_name = os.listdir(path)"
   ]
  },
  {
   "cell_type": "code",
   "execution_count": 133,
   "id": "82bdf6d8-08f7-4dc1-a628-7677269ff965",
   "metadata": {},
   "outputs": [
    {
     "name": "stdout",
     "output_type": "stream",
     "text": [
      "there are files in this path that were not moved\n",
      "there are files in this path that were not moved\n",
      "there are files in this path that were not moved\n",
      "there are files in this path that were not moved\n",
      "there are files in this path that were not moved\n",
      "there are files in this path that were not moved\n"
     ]
    }
   ],
   "source": [
    "folder_names = [' csv files', ' pdf files',' image files']\n",
    "\n",
    "for loop in range(0,3):\n",
    "    if not os.path.exists(path + folder_names[loop]):\n",
    "       # print(path + folder_names[loop])\n",
    "        os.makedirs(path + folder_names[loop])\n",
    "\n",
    "for file in file_name:\n",
    "    if \" .csv\" in file and not os.path.exists(path + \"csv files/\" + file):\n",
    "        shutil.move(path + file,path + \"csv files/\" + file)\n",
    "    elif \" .pdf\" in file and not os.path.exists(path + \"pdf files/\" + file):\n",
    "        shutil.move(path + file,path + \"pdf files/\" + file)\n",
    "    elif \" .jpg\" in file and not os.path.exists(path + \"image files/\" + file):\n",
    "        shutil.move(path + file,path + \"image files/\" + file)\n",
    "    else:\n",
    "        print(\"there are files in this path that were not moved\")\n"
   ]
  },
  {
   "cell_type": "code",
   "execution_count": null,
   "id": "f85b19d1-cfcd-435f-a7c6-b1782cc65c09",
   "metadata": {},
   "outputs": [],
   "source": []
  },
  {
   "cell_type": "code",
   "execution_count": null,
   "id": "d301eab8-2c61-4ae9-b6a5-3689762b2107",
   "metadata": {},
   "outputs": [],
   "source": []
  },
  {
   "cell_type": "code",
   "execution_count": null,
   "id": "2cb87a64-81a8-4682-8daf-a27ffd0a913e",
   "metadata": {},
   "outputs": [],
   "source": []
  },
  {
   "cell_type": "code",
   "execution_count": null,
   "id": "e64a24ed-7041-4819-8ed2-70e91b7302a8",
   "metadata": {},
   "outputs": [],
   "source": []
  },
  {
   "cell_type": "code",
   "execution_count": null,
   "id": "e200d511-c7b0-482e-95b8-805be8f249cf",
   "metadata": {},
   "outputs": [],
   "source": []
  },
  {
   "cell_type": "code",
   "execution_count": null,
   "id": "27563eda-8f55-44a0-a92c-e241e0e32807",
   "metadata": {},
   "outputs": [],
   "source": []
  },
  {
   "cell_type": "code",
   "execution_count": null,
   "id": "b6edb626-1165-42d7-8512-0379c59fd6cd",
   "metadata": {},
   "outputs": [],
   "source": []
  },
  {
   "cell_type": "code",
   "execution_count": null,
   "id": "3225feb0-aea8-4e28-9652-da7eca5ced9d",
   "metadata": {},
   "outputs": [],
   "source": []
  },
  {
   "cell_type": "code",
   "execution_count": null,
   "id": "023335d5-b023-457b-8ad5-b7c98f792332",
   "metadata": {},
   "outputs": [],
   "source": []
  },
  {
   "cell_type": "code",
   "execution_count": null,
   "id": "5b830441-5185-4af2-84a2-007b1261a4b6",
   "metadata": {},
   "outputs": [],
   "source": []
  },
  {
   "cell_type": "code",
   "execution_count": null,
   "id": "b4e8631d-4405-48d3-bb78-584d97371e9a",
   "metadata": {},
   "outputs": [],
   "source": []
  },
  {
   "cell_type": "code",
   "execution_count": null,
   "id": "4d848745-7c93-404e-b01d-27d5f0c35213",
   "metadata": {},
   "outputs": [],
   "source": []
  },
  {
   "cell_type": "code",
   "execution_count": null,
   "id": "1f9c8ad7-fd06-4e62-b1a2-abfa36556773",
   "metadata": {},
   "outputs": [],
   "source": []
  },
  {
   "cell_type": "code",
   "execution_count": null,
   "id": "8aa88911-9971-4102-a09c-9e3854c82b5f",
   "metadata": {},
   "outputs": [],
   "source": []
  }
 ],
 "metadata": {
  "kernelspec": {
   "display_name": "Python 3 (ipykernel)",
   "language": "python",
   "name": "python3"
  },
  "language_info": {
   "codemirror_mode": {
    "name": "ipython",
    "version": 3
   },
   "file_extension": ".py",
   "mimetype": "text/x-python",
   "name": "python",
   "nbconvert_exporter": "python",
   "pygments_lexer": "ipython3",
   "version": "3.12.7"
  }
 },
 "nbformat": 4,
 "nbformat_minor": 5
}
